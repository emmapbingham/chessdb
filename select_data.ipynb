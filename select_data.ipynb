{
 "cells": [
  {
   "cell_type": "markdown",
   "id": "aadd5b8e-2ffd-4459-ad04-7122a915f458",
   "metadata": {},
   "source": [
    "# Select games for analysis"
   ]
  },
  {
   "cell_type": "code",
   "execution_count": 1,
   "id": "246a0df2-f386-4f26-a29c-19f0420fd96c",
   "metadata": {},
   "outputs": [],
   "source": [
    "# standard lib\n",
    "import sqlite3\n",
    "import io\n",
    "import time\n",
    "\n",
    "# data analysis\n",
    "import pandas as pd\n",
    "import numpy as np\n",
    "import matplotlib.pyplot as plt\n",
    "\n",
    "# utils\n",
    "from tqdm.notebook import tqdm"
   ]
  },
  {
   "cell_type": "code",
   "execution_count": 2,
   "id": "55603386-f067-460a-b6d5-b760fe65dd81",
   "metadata": {},
   "outputs": [],
   "source": [
    "con = sqlite3.connect('/Volumes/Extreme SSD/chessdata/data_smaller_1pct.db')\n",
    "cur = con.cursor()"
   ]
  },
  {
   "cell_type": "code",
   "execution_count": 3,
   "id": "c7cf3eea-d4b5-48bd-b01c-3bd8320e8570",
   "metadata": {},
   "outputs": [],
   "source": [
    "events = [\"Rated Bullet game\", \"Rated Blitz game\", \"Rated Rapid game\", \"Rated Classical game\"]\n",
    "time_control = [\"60+0\", \"300+0\", \"600+0\", \"1800+0\"]"
   ]
  },
  {
   "cell_type": "markdown",
   "id": "742b65d7-f8a3-4f97-8948-0523d9e2e1e8",
   "metadata": {},
   "source": [
    "## Look at how many of each category we got"
   ]
  },
  {
   "cell_type": "code",
   "execution_count": 5,
   "id": "a140537f-93f9-4d18-9480-e8733a5d4bbe",
   "metadata": {},
   "outputs": [
    {
     "name": "stdout",
     "output_type": "stream",
     "text": [
      "(6181416,)\n"
     ]
    }
   ],
   "source": [
    "query = \"SELECT COUNT(*) FROM games;\"\n",
    "res = cur.execute(query)\n",
    "print(res.fetchone())"
   ]
  },
  {
   "cell_type": "code",
   "execution_count": 6,
   "id": "8b08050a-3094-4166-a422-f42519d0ab89",
   "metadata": {},
   "outputs": [
    {
     "name": "stdout",
     "output_type": "stream",
     "text": [
      "Rated Blitz games (1603068,)\n",
      "60+0 (3335966,)\n",
      "Rated Bullet games (3335966,)\n",
      "300+0 (1603068,)\n",
      "Rated Rapid games (1199202,)\n",
      "600+0 (1199202,)\n",
      "Rated Classical games (43180,)\n",
      "1800+0 (43180,)\n"
     ]
    }
   ],
   "source": [
    "for e, t in zip(events, time_control):\n",
    "    query = f\"SELECT COUNT(*) FROM games WHERE Event = '{e}';\"\n",
    "    res = cur.execute(query)\n",
    "    print(f\"{e}s\", res.fetchone())\n",
    "    query = f\"SELECT COUNT(*) FROM games WHERE TimeControl = '{t}';\"\n",
    "    res = cur.execute(query)\n",
    "    print(f\"{t}\", res.fetchone())"
   ]
  },
  {
   "cell_type": "markdown",
   "id": "0712cf13-d1a0-4c4e-979c-946e8917d7b1",
   "metadata": {},
   "source": [
    "# Filter each type of game"
   ]
  },
  {
   "cell_type": "markdown",
   "id": "ac93b73d-6ad1-43f3-bd40-913eae7e722d",
   "metadata": {},
   "source": [
    "## Import data and transform dtypes"
   ]
  },
  {
   "cell_type": "code",
   "execution_count": 31,
   "id": "bd0954e2-55a4-4b17-b738-3cbe421efa6a",
   "metadata": {},
   "outputs": [],
   "source": [
    "# num = 0 # [\"Rated Bullet game\", \"Rated Blitz game\", \"Rated Rapid game\", \"Rated Classical game\"]\n",
    "# query = f\"SELECT * FROM games WHERE TimeControl = '{time_control[num]}'\"\n",
    "query = f\"SELECT Event, WhiteElo, BlackElo, TimeControl, ECO, Opening, Termination FROM games\"\n",
    "df = pd.read_sql_query(query, con)"
   ]
  },
  {
   "cell_type": "code",
   "execution_count": 32,
   "id": "abc99654-eea9-4b91-8e89-3c7f4426d043",
   "metadata": {},
   "outputs": [
    {
     "data": {
      "text/plain": [
       "Event          6181416\n",
       "WhiteElo       6181416\n",
       "BlackElo       6181416\n",
       "TimeControl    6181416\n",
       "ECO            6181416\n",
       "Opening        6181416\n",
       "Termination    6181416\n",
       "dtype: int64"
      ]
     },
     "execution_count": 32,
     "metadata": {},
     "output_type": "execute_result"
    }
   ],
   "source": [
    "df.count()"
   ]
  },
  {
   "cell_type": "code",
   "execution_count": 33,
   "id": "b6ce3dc3-c7a8-4c0d-b634-1f071fe10811",
   "metadata": {},
   "outputs": [],
   "source": [
    "# Replace ? with NaN\n",
    "# But there don't seem to be any ? in this dataset\n",
    "df = df.replace(to_replace=\"?\", value=np.nan)"
   ]
  },
  {
   "cell_type": "code",
   "execution_count": 34,
   "id": "a84f161d-be60-4de9-b6c4-59498671f2d4",
   "metadata": {},
   "outputs": [
    {
     "data": {
      "text/plain": [
       "Event          6181416\n",
       "WhiteElo       6181416\n",
       "BlackElo       6181416\n",
       "TimeControl    6181416\n",
       "ECO            6181416\n",
       "Opening        6181416\n",
       "Termination    6181416\n",
       "dtype: int64"
      ]
     },
     "execution_count": 34,
     "metadata": {},
     "output_type": "execute_result"
    }
   ],
   "source": [
    "# there are no missing values in these columns\n",
    "df.count()"
   ]
  },
  {
   "cell_type": "code",
   "execution_count": 35,
   "id": "1932a76b-0052-4849-8b49-16b615be2cca",
   "metadata": {},
   "outputs": [
    {
     "data": {
      "text/plain": [
       "Event          object\n",
       "WhiteElo        int64\n",
       "BlackElo        int64\n",
       "TimeControl    object\n",
       "ECO            object\n",
       "Opening        object\n",
       "Termination    object\n",
       "dtype: object"
      ]
     },
     "execution_count": 35,
     "metadata": {},
     "output_type": "execute_result"
    }
   ],
   "source": [
    "# See the dtypes. Might want to convert some of these to more useful things.\n",
    "df.dtypes"
   ]
  },
  {
   "cell_type": "code",
   "execution_count": 36,
   "id": "4d400770-4761-4079-813f-49123bb63fb9",
   "metadata": {},
   "outputs": [
    {
     "data": {
      "text/plain": [
       "Index           0.000128\n",
       "Event          49.451328\n",
       "WhiteElo       49.451328\n",
       "BlackElo       49.451328\n",
       "TimeControl    49.451328\n",
       "ECO            49.451328\n",
       "Opening        49.451328\n",
       "Termination    49.451328\n",
       "dtype: float64"
      ]
     },
     "execution_count": 36,
     "metadata": {},
     "output_type": "execute_result"
    }
   ],
   "source": [
    "# See the memory usage, out of curiosity\n",
    "df.memory_usage()/10**6"
   ]
  },
  {
   "cell_type": "code",
   "execution_count": 38,
   "id": "fadfd154-f857-4030-b519-371530310adb",
   "metadata": {},
   "outputs": [
    {
     "data": {
      "text/plain": [
       "ECO\n",
       "A00    437725\n",
       "A40    394851\n",
       "B01    363901\n",
       "B00    304492\n",
       "C00    274008\n",
       "D00    273088\n",
       "C20    170952\n",
       "C50    161697\n",
       "B10    156453\n",
       "B06    147927\n",
       "C41    141309\n",
       "D02    135820\n",
       "C44    127850\n",
       "A01    126879\n",
       "B20    105509\n",
       "C40     99300\n",
       "A04     89160\n",
       "A45     85746\n",
       "C23     81508\n",
       "A43     76754\n",
       "Name: count, dtype: int64"
      ]
     },
     "execution_count": 38,
     "metadata": {},
     "output_type": "execute_result"
    }
   ],
   "source": [
    "# Top 20 ECO values\n",
    "df[\"ECO\"].value_counts().head(20)"
   ]
  },
  {
   "cell_type": "code",
   "execution_count": 40,
   "id": "c4411b3a-fe84-46dd-9a04-6b5be6e0ff45",
   "metadata": {},
   "outputs": [
    {
     "data": {
      "text/plain": [
       "Opening\n",
       "Queen's Pawn Game                                182352\n",
       "Van't Kruijs Opening                             127070\n",
       "Caro-Kann Defense                                117937\n",
       "Modern Defense                                   116256\n",
       "Philidor Defense                                 109452\n",
       "Scandinavian Defense                             101782\n",
       "Scandinavian Defense: Mieses-Kotroc Variation     93849\n",
       "Queen's Pawn Game: Accelerated London System      92822\n",
       "Pirc Defense                                      92775\n",
       "Horwitz Defense                                   90644\n",
       "French Defense: Knight Variation                  90272\n",
       "Owen Defense                                      81598\n",
       "Hungarian Opening                                 68613\n",
       "Scandinavian Defense: Valencian Variation         63418\n",
       "Queen's Pawn Game: Modern Defense                 63393\n",
       "Bishop's Opening                                  59042\n",
       "Benoni Defense: Old Benoni                        58457\n",
       "Indian Defense                                    58369\n",
       "Sicilian Defense: Bowdler Attack                  52120\n",
       "Queen's Pawn Game: Chigorin Variation             52105\n",
       "Name: count, dtype: int64"
      ]
     },
     "execution_count": 40,
     "metadata": {},
     "output_type": "execute_result"
    }
   ],
   "source": [
    "# Top 20 Opening values\n",
    "df[\"Opening\"].value_counts().head(20)"
   ]
  },
  {
   "cell_type": "code",
   "execution_count": 41,
   "id": "9cee838b-f425-4ca3-a986-b3283f2b46a6",
   "metadata": {},
   "outputs": [
    {
     "data": {
      "text/plain": [
       "Termination\n",
       "Normal              3806978\n",
       "Time forfeit        2372795\n",
       "Abandoned              1483\n",
       "Rules infraction        160\n",
       "Name: count, dtype: int64"
      ]
     },
     "execution_count": 41,
     "metadata": {},
     "output_type": "execute_result"
    }
   ],
   "source": [
    "# Termination values\n",
    "df[\"Termination\"].value_counts()"
   ]
  },
  {
   "cell_type": "code",
   "execution_count": 53,
   "id": "25e92362-3361-48c0-b020-5c2d7fd04900",
   "metadata": {},
   "outputs": [
    {
     "data": {
      "text/plain": [
       "1643"
      ]
     },
     "execution_count": 53,
     "metadata": {},
     "output_type": "execute_result"
    }
   ],
   "source": [
    "1483+160"
   ]
  },
  {
   "cell_type": "code",
   "execution_count": 42,
   "id": "00419959-a93e-44b6-baf2-2daa85b7c901",
   "metadata": {},
   "outputs": [
    {
     "data": {
      "text/plain": [
       "Event                 Termination     \n",
       "Rated Blitz game      Normal              1254605\n",
       "                      Time forfeit         348002\n",
       "                      Abandoned               428\n",
       "                      Rules infraction         33\n",
       "Rated Bullet game     Time forfeit        1879403\n",
       "                      Normal              1455928\n",
       "                      Abandoned               628\n",
       "                      Rules infraction          7\n",
       "Rated Classical game  Normal                39568\n",
       "                      Time forfeit           3577\n",
       "                      Abandoned                25\n",
       "                      Rules infraction         10\n",
       "Rated Rapid game      Normal              1056877\n",
       "                      Time forfeit         141813\n",
       "                      Abandoned               402\n",
       "                      Rules infraction        110\n",
       "Name: count, dtype: int64"
      ]
     },
     "execution_count": 42,
     "metadata": {},
     "output_type": "execute_result"
    }
   ],
   "source": [
    "# Termination values broken down by game type\n",
    "df.groupby(\"Event\")[\"Termination\"].value_counts()"
   ]
  },
  {
   "cell_type": "code",
   "execution_count": 47,
   "id": "c3e7ec54-55b9-4e69-ac42-5492eee1e21a",
   "metadata": {},
   "outputs": [],
   "source": [
    "# drop ECO and Opening columns because we don't need them for this analysis\n",
    "df.drop(columns=[\"ECO\", \"Opening\"], inplace=True)"
   ]
  },
  {
   "cell_type": "code",
   "execution_count": 51,
   "id": "bc750931-62eb-4515-a9e0-9eb8615510aa",
   "metadata": {},
   "outputs": [],
   "source": [
    "# Filter out the Abandoned and Rules infraction games\n",
    "df = df[(df[\"Termination\"]!=\"Rules infraction\")&(df[\"Termination\"]!=\"Abandoned\")]"
   ]
  },
  {
   "cell_type": "code",
   "execution_count": 54,
   "id": "2a19b56f-37d6-4294-b98f-556df119dcd8",
   "metadata": {},
   "outputs": [
    {
     "data": {
      "text/plain": [
       "(6179773, 5)"
      ]
     },
     "execution_count": 54,
     "metadata": {},
     "output_type": "execute_result"
    }
   ],
   "source": [
    "df.shape"
   ]
  },
  {
   "cell_type": "code",
   "execution_count": 52,
   "id": "339715ee-ff07-443b-9d98-4f0532a11146",
   "metadata": {},
   "outputs": [
    {
     "data": {
      "text/plain": [
       "Event\n",
       "Rated Bullet game       3335331\n",
       "Rated Blitz game        1602607\n",
       "Rated Rapid game        1198690\n",
       "Rated Classical game      43145\n",
       "Name: count, dtype: int64"
      ]
     },
     "execution_count": 52,
     "metadata": {},
     "output_type": "execute_result"
    }
   ],
   "source": [
    "df[\"Event\"].value_counts()"
   ]
  },
  {
   "cell_type": "markdown",
   "id": "72c4c747-2229-4bf5-adda-dba83a3d7c87",
   "metadata": {},
   "source": [
    "# Get dataset sorted by game urls (Site)"
   ]
  },
  {
   "cell_type": "code",
   "execution_count": 4,
   "id": "08e4b01d-c912-45a9-92ba-72362bfabd73",
   "metadata": {},
   "outputs": [],
   "source": [
    "# https://stackoverflow.com/questions/18613055/is-order-by-and-row-number-deterministic\n",
    "# want to get unique sorting\n",
    "# seems to be unique when you combine UTCDateTime, WhiteElo, and BlackElo\n",
    "# query = \"\"\"SELECT Event, WhiteElo, BlackElo, UTCDateTime, Termination FROM games \n",
    "#     WHERE (Termination == 'Normal' OR Termination == 'Time forfeit') \n",
    "#     ORDER BY UTCDateTime, WhiteElo, BlackElo\"\"\"\n",
    "query = \"\"\"SELECT Event, Site, WhiteElo, BlackElo, UTCDateTime, Termination FROM games \n",
    "    WHERE (Termination == 'Normal' OR Termination == 'Time forfeit') \n",
    "    ORDER BY Site\"\"\"\n",
    "df = pd.read_sql_query(query, con)"
   ]
  },
  {
   "cell_type": "code",
   "execution_count": 5,
   "id": "32a54a85-6c69-4edf-8cad-e89b4ebc9ada",
   "metadata": {},
   "outputs": [
    {
     "data": {
      "text/plain": [
       "Event\n",
       "Rated Bullet game       3335331\n",
       "Rated Blitz game        1602607\n",
       "Rated Rapid game        1198690\n",
       "Rated Classical game      43145\n",
       "Name: count, dtype: int64"
      ]
     },
     "execution_count": 5,
     "metadata": {},
     "output_type": "execute_result"
    }
   ],
   "source": [
    "df[\"Event\"].value_counts()"
   ]
  },
  {
   "cell_type": "code",
   "execution_count": 6,
   "id": "fe42a085-15d8-4d29-a414-179c8253bf55",
   "metadata": {},
   "outputs": [
    {
     "data": {
      "text/plain": [
       "(6179773, 6)"
      ]
     },
     "execution_count": 6,
     "metadata": {},
     "output_type": "execute_result"
    }
   ],
   "source": [
    "df.shape"
   ]
  },
  {
   "cell_type": "code",
   "execution_count": 7,
   "id": "f7305747-e964-4d91-9efa-1d1f640d0f32",
   "metadata": {},
   "outputs": [
    {
     "data": {
      "text/plain": [
       "(6179773,)"
      ]
     },
     "execution_count": 7,
     "metadata": {},
     "output_type": "execute_result"
    }
   ],
   "source": [
    "(df[\"UTCDateTime\"]+df[\"WhiteElo\"].astype(str)+df[\"BlackElo\"].astype(str)).unique().shape"
   ]
  },
  {
   "cell_type": "code",
   "execution_count": 8,
   "id": "e4177d14-729a-4b6d-96d4-82e1cd3a4ae2",
   "metadata": {},
   "outputs": [
    {
     "data": {
      "text/plain": [
       "(6179773,)"
      ]
     },
     "execution_count": 8,
     "metadata": {},
     "output_type": "execute_result"
    }
   ],
   "source": [
    "df[\"Site\"].unique().shape"
   ]
  },
  {
   "cell_type": "code",
   "execution_count": 9,
   "id": "1a0fae9d-f1ef-42a2-ab96-4cce9602f732",
   "metadata": {},
   "outputs": [
    {
     "data": {
      "text/plain": [
       "0    https://lichess.org/0000Vlow\n",
       "1    https://lichess.org/0000fjWS\n",
       "2    https://lichess.org/0001epJ5\n",
       "3    https://lichess.org/00033ntZ\n",
       "4    https://lichess.org/00038fpL\n",
       "Name: Site, dtype: object"
      ]
     },
     "execution_count": 9,
     "metadata": {},
     "output_type": "execute_result"
    }
   ],
   "source": [
    "df[\"Site\"].head()"
   ]
  },
  {
   "cell_type": "code",
   "execution_count": 11,
   "id": "0f653f84-207d-4b6f-898b-7d5fa0cfaed1",
   "metadata": {},
   "outputs": [
    {
     "data": {
      "text/plain": [
       "0    2024-03-09 12:32:05\n",
       "1    2024-05-31 22:26:27\n",
       "2    2024-05-08 08:46:25\n",
       "3    2024-11-17 10:41:58\n",
       "4    2024-03-06 19:48:52\n",
       "Name: UTCDateTime, dtype: object"
      ]
     },
     "execution_count": 11,
     "metadata": {},
     "output_type": "execute_result"
    }
   ],
   "source": [
    "df[\"UTCDateTime\"].head()"
   ]
  },
  {
   "cell_type": "code",
   "execution_count": 10,
   "id": "b368a6e2-84e0-46a5-9931-5cf90e8ef8ad",
   "metadata": {},
   "outputs": [
    {
     "data": {
      "text/plain": [
       "<sqlite3.Cursor at 0x113a22d40>"
      ]
     },
     "execution_count": 10,
     "metadata": {},
     "output_type": "execute_result"
    }
   ],
   "source": [
    "query = \"\"\"CREATE INDEX IF NOT EXISTS site_index ON games (Site)\"\"\"\n",
    "cur.execute(query)"
   ]
  },
  {
   "cell_type": "markdown",
   "id": "a9ccc41d-89fb-4ad2-b0d3-ea4d3310ec10",
   "metadata": {},
   "source": [
    "# Select data by Elo \n",
    "I'm thinking of dividing the Elo into bins and going for an even distribution across bins. Basically group by Elo bin and select random games from each group.\n",
    "## First plot the Elo distribution"
   ]
  },
  {
   "cell_type": "code",
   "execution_count": 12,
   "id": "bf552dff-78c8-4f30-9216-33eef530fad0",
   "metadata": {},
   "outputs": [
    {
     "data": {
      "image/png": "[encoded data removed]",
      "text/plain": [
       "<Figure size 1120x560 with 4 Axes>"
      ]
     },
     "metadata": {},
     "output_type": "display_data"
    }
   ],
   "source": [
    "fig, axes = plt.subplots(2,2, figsize=(8,4), dpi=140)\n",
    "for i, ax in enumerate(axes.flatten()):\n",
    "    df[df[\"Event\"] == events[i]][\"WhiteElo\"].plot.hist(ax=ax, bins=50, histtype=\"step\", color=\"red\", label=\"White\", density=True)\n",
    "    df[df[\"Event\"] == events[i]][\"BlackElo\"].plot.hist(ax=ax, bins=50, histtype=\"step\", color=\"blue\", label=\"Black\", density=True)\n",
    "    ax.set_title(f\"{events[i]}s\")\n",
    "    ax.set_xlabel(\"Elo\")\n",
    "    ax.set_xlim(0,3000)\n",
    "    ax.legend()\n",
    "fig.tight_layout()"
   ]
  },
  {
   "cell_type": "code",
   "execution_count": 13,
   "id": "d50a937c-4252-42c0-b357-09eb9b32107c",
   "metadata": {},
   "outputs": [
    {
     "data": {
      "image/png": "[encoded data removed]",
      "text/plain": [
       "<Figure size 1120x560 with 4 Axes>"
      ]
     },
     "metadata": {},
     "output_type": "display_data"
    }
   ],
   "source": [
    "fig, axes = plt.subplots(2,2, figsize=(8,4), dpi=140)\n",
    "for i, ax in enumerate(axes.flatten()):\n",
    "    df[df[\"Event\"] == events[i]][\"WhiteElo\"].plot.hist(ax=ax, bins=50, histtype=\"step\", color=\"red\", label=\"White\")\n",
    "    df[df[\"Event\"] == events[i]][\"BlackElo\"].plot.hist(ax=ax, bins=50, histtype=\"step\", color=\"blue\", label=\"Black\")\n",
    "    ax.set_title(f\"{events[i]}s\")\n",
    "    ax.set_xlabel(\"Elo\")\n",
    "    ax.set_xlim(0,3000)\n",
    "    ax.legend()\n",
    "fig.tight_layout()"
   ]
  },
  {
   "cell_type": "markdown",
   "id": "0099c08e-0297-4c1e-bd56-56a671cb7444",
   "metadata": {},
   "source": [
    "Resampling strategy:\n",
    "- Cut off the tails (perhaps keeping the 99.9% interval in the middle) of both White and Black Elo\n",
    "- Bin into N bins (try e.g. 40 bins)\n",
    "- Select randomly a number of games from that bin so as to get ~25,000 games total for each category\n",
    "- Check resulting distributions of Elo"
   ]
  },
  {
   "cell_type": "code",
   "execution_count": 14,
   "id": "edd32679-c5ef-43ea-81c5-8257144ff69e",
   "metadata": {},
   "outputs": [],
   "source": [
    "event_dfs = []\n",
    "for e in events:\n",
    "    edf = df[df[\"Event\"] == e]\n",
    "    # get the 95% in the middle for both White and Black\n",
    "    for player in [\"White\", \"Black\"]:\n",
    "        # middle95 = pd.qcut(edf[f\"{player}Elo\"], q=[0, 0.05, .95, 1], labels=[\"Bottom\", \"Middle\", \"Top\"])\n",
    "        middle99 = pd.qcut(edf[f\"{player}Elo\"], q=[0, 0.001, .999, 1], labels=[\"Bottom\", \"Middle\", \"Top\"])\n",
    "        edf = edf[middle99 == \"Middle\"]\n",
    "    event_dfs.append(edf)"
   ]
  },
  {
   "cell_type": "code",
   "execution_count": 15,
   "id": "e6ea5675-9681-4ccf-967a-9f38e6a1c131",
   "metadata": {},
   "outputs": [
    {
     "data": {
      "text/html": [
       "<div>\n",
       "<style scoped>\n",
       "    .dataframe tbody tr th:only-of-type {\n",
       "        vertical-align: middle;\n",
       "    }\n",
       "\n",
       "    .dataframe tbody tr th {\n",
       "        vertical-align: top;\n",
       "    }\n",
       "\n",
       "    .dataframe thead th {\n",
       "        text-align: right;\n",
       "    }\n",
       "</style>\n",
       "<table border=\"1\" class=\"dataframe\">\n",
       "  <thead>\n",
       "    <tr style=\"text-align: right;\">\n",
       "      <th></th>\n",
       "      <th>WhiteElo</th>\n",
       "      <th>BlackElo</th>\n",
       "    </tr>\n",
       "  </thead>\n",
       "  <tbody>\n",
       "    <tr>\n",
       "      <th>count</th>\n",
       "      <td>3.322002e+06</td>\n",
       "      <td>3.322002e+06</td>\n",
       "    </tr>\n",
       "    <tr>\n",
       "      <th>mean</th>\n",
       "      <td>1.775800e+03</td>\n",
       "      <td>1.775833e+03</td>\n",
       "    </tr>\n",
       "    <tr>\n",
       "      <th>std</th>\n",
       "      <td>4.013363e+02</td>\n",
       "      <td>4.011693e+02</td>\n",
       "    </tr>\n",
       "    <tr>\n",
       "      <th>min</th>\n",
       "      <td>6.400000e+02</td>\n",
       "      <td>6.760000e+02</td>\n",
       "    </tr>\n",
       "    <tr>\n",
       "      <th>25%</th>\n",
       "      <td>1.499000e+03</td>\n",
       "      <td>1.499000e+03</td>\n",
       "    </tr>\n",
       "    <tr>\n",
       "      <th>50%</th>\n",
       "      <td>1.792000e+03</td>\n",
       "      <td>1.792000e+03</td>\n",
       "    </tr>\n",
       "    <tr>\n",
       "      <th>75%</th>\n",
       "      <td>2.061000e+03</td>\n",
       "      <td>2.061000e+03</td>\n",
       "    </tr>\n",
       "    <tr>\n",
       "      <th>max</th>\n",
       "      <td>2.947000e+03</td>\n",
       "      <td>2.909000e+03</td>\n",
       "    </tr>\n",
       "  </tbody>\n",
       "</table>\n",
       "</div>"
      ],
      "text/plain": [
       "           WhiteElo      BlackElo\n",
       "count  3.322002e+06  3.322002e+06\n",
       "mean   1.775800e+03  1.775833e+03\n",
       "std    4.013363e+02  4.011693e+02\n",
       "min    6.400000e+02  6.760000e+02\n",
       "25%    1.499000e+03  1.499000e+03\n",
       "50%    1.792000e+03  1.792000e+03\n",
       "75%    2.061000e+03  2.061000e+03\n",
       "max    2.947000e+03  2.909000e+03"
      ]
     },
     "execution_count": 15,
     "metadata": {},
     "output_type": "execute_result"
    }
   ],
   "source": [
    "event_dfs[0].describe()"
   ]
  },
  {
   "cell_type": "code",
   "execution_count": 16,
   "id": "d31cde40-6dba-4afb-bd95-1c718efd6815",
   "metadata": {},
   "outputs": [
    {
     "data": {
      "text/html": [
       "<div>\n",
       "<style scoped>\n",
       "    .dataframe tbody tr th:only-of-type {\n",
       "        vertical-align: middle;\n",
       "    }\n",
       "\n",
       "    .dataframe tbody tr th {\n",
       "        vertical-align: top;\n",
       "    }\n",
       "\n",
       "    .dataframe thead th {\n",
       "        text-align: right;\n",
       "    }\n",
       "</style>\n",
       "<table border=\"1\" class=\"dataframe\">\n",
       "  <thead>\n",
       "    <tr style=\"text-align: right;\">\n",
       "      <th></th>\n",
       "      <th>WhiteElo</th>\n",
       "      <th>BlackElo</th>\n",
       "    </tr>\n",
       "  </thead>\n",
       "  <tbody>\n",
       "    <tr>\n",
       "      <th>count</th>\n",
       "      <td>1.596228e+06</td>\n",
       "      <td>1.596228e+06</td>\n",
       "    </tr>\n",
       "    <tr>\n",
       "      <th>mean</th>\n",
       "      <td>1.518440e+03</td>\n",
       "      <td>1.518558e+03</td>\n",
       "    </tr>\n",
       "    <tr>\n",
       "      <th>std</th>\n",
       "      <td>3.479638e+02</td>\n",
       "      <td>3.478552e+02</td>\n",
       "    </tr>\n",
       "    <tr>\n",
       "      <th>min</th>\n",
       "      <td>5.480000e+02</td>\n",
       "      <td>5.720000e+02</td>\n",
       "    </tr>\n",
       "    <tr>\n",
       "      <th>25%</th>\n",
       "      <td>1.269000e+03</td>\n",
       "      <td>1.269000e+03</td>\n",
       "    </tr>\n",
       "    <tr>\n",
       "      <th>50%</th>\n",
       "      <td>1.535000e+03</td>\n",
       "      <td>1.536000e+03</td>\n",
       "    </tr>\n",
       "    <tr>\n",
       "      <th>75%</th>\n",
       "      <td>1.780000e+03</td>\n",
       "      <td>1.780000e+03</td>\n",
       "    </tr>\n",
       "    <tr>\n",
       "      <th>max</th>\n",
       "      <td>2.395000e+03</td>\n",
       "      <td>2.377000e+03</td>\n",
       "    </tr>\n",
       "  </tbody>\n",
       "</table>\n",
       "</div>"
      ],
      "text/plain": [
       "           WhiteElo      BlackElo\n",
       "count  1.596228e+06  1.596228e+06\n",
       "mean   1.518440e+03  1.518558e+03\n",
       "std    3.479638e+02  3.478552e+02\n",
       "min    5.480000e+02  5.720000e+02\n",
       "25%    1.269000e+03  1.269000e+03\n",
       "50%    1.535000e+03  1.536000e+03\n",
       "75%    1.780000e+03  1.780000e+03\n",
       "max    2.395000e+03  2.377000e+03"
      ]
     },
     "execution_count": 16,
     "metadata": {},
     "output_type": "execute_result"
    }
   ],
   "source": [
    "event_dfs[1].describe()"
   ]
  },
  {
   "cell_type": "code",
   "execution_count": 17,
   "id": "71b7f6bd-ccd2-4bb6-8705-d8e4e27b7a1c",
   "metadata": {},
   "outputs": [
    {
     "data": {
      "text/plain": [
       "((3322002, 6), (1596228, 6), (1193891, 6))"
      ]
     },
     "execution_count": 17,
     "metadata": {},
     "output_type": "execute_result"
    }
   ],
   "source": [
    "event_dfs[0].shape, event_dfs[1].shape, event_dfs[2].shape"
   ]
  },
  {
   "cell_type": "code",
   "execution_count": 18,
   "id": "15145fd6-daf3-4564-b1ac-e6ab5548826b",
   "metadata": {},
   "outputs": [
    {
     "name": "stdout",
     "output_type": "stream",
     "text": [
      "1111.1333333333334\n",
      "Rated Bullet game\n"
     ]
    },
    {
     "name": "stderr",
     "output_type": "stream",
     "text": [
      "/var/folders/ns/cpwqr00s7y55npv2jxl63gm80000gn/T/ipykernel_39765/2192498540.py:11: FutureWarning: The default of observed=False is deprecated and will be changed to True in a future version of pandas. Pass observed=False to retain current behavior or observed=True to adopt the future default and silence this warning.\n",
      "  smaller_edf = edf.groupby(f\"{player}EloBins\", as_index=False).sample(n=int(desired_sizes[i]/bins)+1, replace=False)\n"
     ]
    },
    {
     "name": "stdout",
     "output_type": "stream",
     "text": [
      "Rated Blitz game\n"
     ]
    },
    {
     "name": "stderr",
     "output_type": "stream",
     "text": [
      "/var/folders/ns/cpwqr00s7y55npv2jxl63gm80000gn/T/ipykernel_39765/2192498540.py:11: FutureWarning: The default of observed=False is deprecated and will be changed to True in a future version of pandas. Pass observed=False to retain current behavior or observed=True to adopt the future default and silence this warning.\n",
      "  smaller_edf = edf.groupby(f\"{player}EloBins\", as_index=False).sample(n=int(desired_sizes[i]/bins)+1, replace=False)\n"
     ]
    },
    {
     "name": "stdout",
     "output_type": "stream",
     "text": [
      "Rated Rapid game\n"
     ]
    },
    {
     "name": "stderr",
     "output_type": "stream",
     "text": [
      "/var/folders/ns/cpwqr00s7y55npv2jxl63gm80000gn/T/ipykernel_39765/2192498540.py:11: FutureWarning: The default of observed=False is deprecated and will be changed to True in a future version of pandas. Pass observed=False to retain current behavior or observed=True to adopt the future default and silence this warning.\n",
      "  smaller_edf = edf.groupby(f\"{player}EloBins\", as_index=False).sample(n=int(desired_sizes[i]/bins)+1, replace=False)\n"
     ]
    }
   ],
   "source": [
    "# bin into N bins\n",
    "bins = 30\n",
    "desired_sizes = [33334, 33333, 33333]\n",
    "# how many should we sample from each bin to get the desired size? desired_size/bins\n",
    "print(desired_sizes[0]/bins)\n",
    "resampled_dfs = []\n",
    "player = \"Black\"\n",
    "for i, edf in enumerate(event_dfs[:3]):\n",
    "    print(events[i])\n",
    "    edf[f\"{player}EloBins\"] = pd.cut(edf[f\"{player}Elo\"], bins=bins)\n",
    "    smaller_edf = edf.groupby(f\"{player}EloBins\", as_index=False).sample(n=int(desired_sizes[i]/bins)+1, replace=False)\n",
    "    resampled_dfs.append(smaller_edf)"
   ]
  },
  {
   "cell_type": "code",
   "execution_count": 19,
   "id": "5a4c6216-3801-4f2f-8f6a-205d13cd2ae2",
   "metadata": {},
   "outputs": [
    {
     "data": {
      "text/html": [
       "<div>\n",
       "<style scoped>\n",
       "    .dataframe tbody tr th:only-of-type {\n",
       "        vertical-align: middle;\n",
       "    }\n",
       "\n",
       "    .dataframe tbody tr th {\n",
       "        vertical-align: top;\n",
       "    }\n",
       "\n",
       "    .dataframe thead th {\n",
       "        text-align: right;\n",
       "    }\n",
       "</style>\n",
       "<table border=\"1\" class=\"dataframe\">\n",
       "  <thead>\n",
       "    <tr style=\"text-align: right;\">\n",
       "      <th></th>\n",
       "      <th>WhiteElo</th>\n",
       "      <th>BlackElo</th>\n",
       "    </tr>\n",
       "  </thead>\n",
       "  <tbody>\n",
       "    <tr>\n",
       "      <th>count</th>\n",
       "      <td>33360.000000</td>\n",
       "      <td>33360.000000</td>\n",
       "    </tr>\n",
       "    <tr>\n",
       "      <th>mean</th>\n",
       "      <td>1791.200899</td>\n",
       "      <td>1792.364988</td>\n",
       "    </tr>\n",
       "    <tr>\n",
       "      <th>std</th>\n",
       "      <td>629.492115</td>\n",
       "      <td>642.467597</td>\n",
       "    </tr>\n",
       "    <tr>\n",
       "      <th>min</th>\n",
       "      <td>640.000000</td>\n",
       "      <td>676.000000</td>\n",
       "    </tr>\n",
       "    <tr>\n",
       "      <th>25%</th>\n",
       "      <td>1244.000000</td>\n",
       "      <td>1237.000000</td>\n",
       "    </tr>\n",
       "    <tr>\n",
       "      <th>50%</th>\n",
       "      <td>1794.000000</td>\n",
       "      <td>1792.500000</td>\n",
       "    </tr>\n",
       "    <tr>\n",
       "      <th>75%</th>\n",
       "      <td>2337.000000</td>\n",
       "      <td>2348.000000</td>\n",
       "    </tr>\n",
       "    <tr>\n",
       "      <th>max</th>\n",
       "      <td>2947.000000</td>\n",
       "      <td>2909.000000</td>\n",
       "    </tr>\n",
       "  </tbody>\n",
       "</table>\n",
       "</div>"
      ],
      "text/plain": [
       "           WhiteElo      BlackElo\n",
       "count  33360.000000  33360.000000\n",
       "mean    1791.200899   1792.364988\n",
       "std      629.492115    642.467597\n",
       "min      640.000000    676.000000\n",
       "25%     1244.000000   1237.000000\n",
       "50%     1794.000000   1792.500000\n",
       "75%     2337.000000   2348.000000\n",
       "max     2947.000000   2909.000000"
      ]
     },
     "execution_count": 19,
     "metadata": {},
     "output_type": "execute_result"
    }
   ],
   "source": [
    "resampled_dfs[0].describe()"
   ]
  },
  {
   "cell_type": "code",
   "execution_count": 20,
   "id": "13d0dd39-6a56-460e-bd8a-7adaf40f0572",
   "metadata": {},
   "outputs": [
    {
     "data": {
      "text/html": [
       "<div>\n",
       "<style scoped>\n",
       "    .dataframe tbody tr th:only-of-type {\n",
       "        vertical-align: middle;\n",
       "    }\n",
       "\n",
       "    .dataframe tbody tr th {\n",
       "        vertical-align: top;\n",
       "    }\n",
       "\n",
       "    .dataframe thead th {\n",
       "        text-align: right;\n",
       "    }\n",
       "</style>\n",
       "<table border=\"1\" class=\"dataframe\">\n",
       "  <thead>\n",
       "    <tr style=\"text-align: right;\">\n",
       "      <th></th>\n",
       "      <th>WhiteElo</th>\n",
       "      <th>BlackElo</th>\n",
       "    </tr>\n",
       "  </thead>\n",
       "  <tbody>\n",
       "    <tr>\n",
       "      <th>count</th>\n",
       "      <td>33360.000000</td>\n",
       "      <td>33360.000000</td>\n",
       "    </tr>\n",
       "    <tr>\n",
       "      <th>mean</th>\n",
       "      <td>1474.617416</td>\n",
       "      <td>1474.692656</td>\n",
       "    </tr>\n",
       "    <tr>\n",
       "      <th>std</th>\n",
       "      <td>505.245188</td>\n",
       "      <td>519.268539</td>\n",
       "    </tr>\n",
       "    <tr>\n",
       "      <th>min</th>\n",
       "      <td>548.000000</td>\n",
       "      <td>572.000000</td>\n",
       "    </tr>\n",
       "    <tr>\n",
       "      <th>25%</th>\n",
       "      <td>1034.000000</td>\n",
       "      <td>1025.000000</td>\n",
       "    </tr>\n",
       "    <tr>\n",
       "      <th>50%</th>\n",
       "      <td>1476.000000</td>\n",
       "      <td>1474.500000</td>\n",
       "    </tr>\n",
       "    <tr>\n",
       "      <th>75%</th>\n",
       "      <td>1919.000000</td>\n",
       "      <td>1924.000000</td>\n",
       "    </tr>\n",
       "    <tr>\n",
       "      <th>max</th>\n",
       "      <td>2395.000000</td>\n",
       "      <td>2377.000000</td>\n",
       "    </tr>\n",
       "  </tbody>\n",
       "</table>\n",
       "</div>"
      ],
      "text/plain": [
       "           WhiteElo      BlackElo\n",
       "count  33360.000000  33360.000000\n",
       "mean    1474.617416   1474.692656\n",
       "std      505.245188    519.268539\n",
       "min      548.000000    572.000000\n",
       "25%     1034.000000   1025.000000\n",
       "50%     1476.000000   1474.500000\n",
       "75%     1919.000000   1924.000000\n",
       "max     2395.000000   2377.000000"
      ]
     },
     "execution_count": 20,
     "metadata": {},
     "output_type": "execute_result"
    }
   ],
   "source": [
    "resampled_dfs[1].describe()"
   ]
  },
  {
   "cell_type": "code",
   "execution_count": 21,
   "id": "3a97304f-e5e8-46e7-aff7-093a2d60e4a0",
   "metadata": {},
   "outputs": [
    {
     "data": {
      "text/html": [
       "<div>\n",
       "<style scoped>\n",
       "    .dataframe tbody tr th:only-of-type {\n",
       "        vertical-align: middle;\n",
       "    }\n",
       "\n",
       "    .dataframe tbody tr th {\n",
       "        vertical-align: top;\n",
       "    }\n",
       "\n",
       "    .dataframe thead th {\n",
       "        text-align: right;\n",
       "    }\n",
       "</style>\n",
       "<table border=\"1\" class=\"dataframe\">\n",
       "  <thead>\n",
       "    <tr style=\"text-align: right;\">\n",
       "      <th></th>\n",
       "      <th>WhiteElo</th>\n",
       "      <th>BlackElo</th>\n",
       "    </tr>\n",
       "  </thead>\n",
       "  <tbody>\n",
       "    <tr>\n",
       "      <th>count</th>\n",
       "      <td>33360.000000</td>\n",
       "      <td>33360.000000</td>\n",
       "    </tr>\n",
       "    <tr>\n",
       "      <th>mean</th>\n",
       "      <td>1505.399520</td>\n",
       "      <td>1506.526709</td>\n",
       "    </tr>\n",
       "    <tr>\n",
       "      <th>std</th>\n",
       "      <td>520.900639</td>\n",
       "      <td>537.233380</td>\n",
       "    </tr>\n",
       "    <tr>\n",
       "      <th>min</th>\n",
       "      <td>546.000000</td>\n",
       "      <td>573.000000</td>\n",
       "    </tr>\n",
       "    <tr>\n",
       "      <th>25%</th>\n",
       "      <td>1051.000000</td>\n",
       "      <td>1040.000000</td>\n",
       "    </tr>\n",
       "    <tr>\n",
       "      <th>50%</th>\n",
       "      <td>1503.000000</td>\n",
       "      <td>1506.500000</td>\n",
       "    </tr>\n",
       "    <tr>\n",
       "      <th>75%</th>\n",
       "      <td>1958.250000</td>\n",
       "      <td>1973.000000</td>\n",
       "    </tr>\n",
       "    <tr>\n",
       "      <th>max</th>\n",
       "      <td>2476.000000</td>\n",
       "      <td>2440.000000</td>\n",
       "    </tr>\n",
       "  </tbody>\n",
       "</table>\n",
       "</div>"
      ],
      "text/plain": [
       "           WhiteElo      BlackElo\n",
       "count  33360.000000  33360.000000\n",
       "mean    1505.399520   1506.526709\n",
       "std      520.900639    537.233380\n",
       "min      546.000000    573.000000\n",
       "25%     1051.000000   1040.000000\n",
       "50%     1503.000000   1506.500000\n",
       "75%     1958.250000   1973.000000\n",
       "max     2476.000000   2440.000000"
      ]
     },
     "execution_count": 21,
     "metadata": {},
     "output_type": "execute_result"
    }
   ],
   "source": [
    "resampled_dfs[2].describe()"
   ]
  },
  {
   "cell_type": "code",
   "execution_count": 22,
   "id": "273d309f-3c93-49da-aa41-3d3651603441",
   "metadata": {},
   "outputs": [
    {
     "data": {
      "image/png": "[encoded data removed]",
      "text/plain": [
       "<Figure size 1120x560 with 3 Axes>"
      ]
     },
     "metadata": {},
     "output_type": "display_data"
    }
   ],
   "source": [
    "fig, axes = plt.subplots(1,3, figsize=(8,4), dpi=140)\n",
    "histbins = 100\n",
    "for i, ax in enumerate(axes.flatten()):\n",
    "    edf = resampled_dfs[i]\n",
    "    edf[\"WhiteElo\"].plot.hist(ax=ax, bins=histbins, histtype=\"step\", color=\"red\", label=\"White\")\n",
    "    edf[\"BlackElo\"].plot.hist(ax=ax, bins=histbins, histtype=\"step\", color=\"blue\", label=\"Black\")\n",
    "    ax.set_title(f\"{events[i]}s\")\n",
    "    ax.set_xlabel(\"Elo\")\n",
    "    ax.set_xlim(0,3000)\n",
    "    ax.legend()\n",
    "fig.tight_layout()"
   ]
  },
  {
   "cell_type": "code",
   "execution_count": 23,
   "id": "21dd07b3-aca2-4a8d-8b4f-74260e7078ec",
   "metadata": {},
   "outputs": [
    {
     "name": "stderr",
     "output_type": "stream",
     "text": [
      "/Users/emmabingham/miniforge3/envs/chess/lib/python3.10/site-packages/pandas/core/util/hashing.py:330: RuntimeWarning: invalid value encountered in cast\n",
      "  vals.astype(str).astype(object), hash_key, encoding\n"
     ]
    },
    {
     "data": {
      "text/plain": [
       "(100080, 7)"
      ]
     },
     "execution_count": 23,
     "metadata": {},
     "output_type": "execute_result"
    }
   ],
   "source": [
    "pd.concat(resampled_dfs).shape"
   ]
  },
  {
   "cell_type": "code",
   "execution_count": 24,
   "id": "91487ff3-afa8-4c38-91ef-8b3d29be740e",
   "metadata": {},
   "outputs": [
    {
     "data": {
      "text/html": [
       "<div>\n",
       "<style scoped>\n",
       "    .dataframe tbody tr th:only-of-type {\n",
       "        vertical-align: middle;\n",
       "    }\n",
       "\n",
       "    .dataframe tbody tr th {\n",
       "        vertical-align: top;\n",
       "    }\n",
       "\n",
       "    .dataframe thead th {\n",
       "        text-align: right;\n",
       "    }\n",
       "</style>\n",
       "<table border=\"1\" class=\"dataframe\">\n",
       "  <thead>\n",
       "    <tr style=\"text-align: right;\">\n",
       "      <th></th>\n",
       "      <th>Site</th>\n",
       "      <th>WhiteElo</th>\n",
       "      <th>BlackElo</th>\n",
       "      <th>UTCDateTime</th>\n",
       "      <th>Termination</th>\n",
       "      <th>BlackEloBins</th>\n",
       "    </tr>\n",
       "    <tr>\n",
       "      <th>Event</th>\n",
       "      <th></th>\n",
       "      <th></th>\n",
       "      <th></th>\n",
       "      <th></th>\n",
       "      <th></th>\n",
       "      <th></th>\n",
       "    </tr>\n",
       "  </thead>\n",
       "  <tbody>\n",
       "    <tr>\n",
       "      <th>Rated Blitz game</th>\n",
       "      <td>33360</td>\n",
       "      <td>33360</td>\n",
       "      <td>33360</td>\n",
       "      <td>33360</td>\n",
       "      <td>33360</td>\n",
       "      <td>33360</td>\n",
       "    </tr>\n",
       "    <tr>\n",
       "      <th>Rated Bullet game</th>\n",
       "      <td>33360</td>\n",
       "      <td>33360</td>\n",
       "      <td>33360</td>\n",
       "      <td>33360</td>\n",
       "      <td>33360</td>\n",
       "      <td>33360</td>\n",
       "    </tr>\n",
       "    <tr>\n",
       "      <th>Rated Rapid game</th>\n",
       "      <td>33360</td>\n",
       "      <td>33360</td>\n",
       "      <td>33360</td>\n",
       "      <td>33360</td>\n",
       "      <td>33360</td>\n",
       "      <td>33360</td>\n",
       "    </tr>\n",
       "  </tbody>\n",
       "</table>\n",
       "</div>"
      ],
      "text/plain": [
       "                    Site  WhiteElo  BlackElo  UTCDateTime  Termination  \\\n",
       "Event                                                                    \n",
       "Rated Blitz game   33360     33360     33360        33360        33360   \n",
       "Rated Bullet game  33360     33360     33360        33360        33360   \n",
       "Rated Rapid game   33360     33360     33360        33360        33360   \n",
       "\n",
       "                   BlackEloBins  \n",
       "Event                            \n",
       "Rated Blitz game          33360  \n",
       "Rated Bullet game         33360  \n",
       "Rated Rapid game          33360  "
      ]
     },
     "execution_count": 24,
     "metadata": {},
     "output_type": "execute_result"
    }
   ],
   "source": [
    "pd.concat(resampled_dfs).groupby(\"Event\").count() #[\"Termination\"].value_counts()"
   ]
  },
  {
   "cell_type": "code",
   "execution_count": 27,
   "id": "960be263-9187-4c7e-851d-8957e13153ea",
   "metadata": {},
   "outputs": [],
   "source": [
    "# get down to 100000 games (we overshot a bit) by randomly removing games\n",
    "reduced_df = pd.concat(resampled_dfs).sample(n=100000, replace=False)"
   ]
  },
  {
   "cell_type": "code",
   "execution_count": 28,
   "id": "eab7bffe-dc2e-4ea3-803b-26528cd14306",
   "metadata": {},
   "outputs": [
    {
     "data": {
      "text/plain": [
       "Event\n",
       "Rated Rapid game     33335\n",
       "Rated Blitz game     33334\n",
       "Rated Bullet game    33331\n",
       "Name: count, dtype: int64"
      ]
     },
     "execution_count": 28,
     "metadata": {},
     "output_type": "execute_result"
    }
   ],
   "source": [
    "reduced_df[\"Event\"].value_counts()"
   ]
  },
  {
   "cell_type": "code",
   "execution_count": 295,
   "id": "37406bf9-a32b-4f79-858f-e693b5d31666",
   "metadata": {},
   "outputs": [],
   "source": [
    "# wrote the selected games to CSV (but without all columns)\n",
    "# reduced_df.reset_index().drop(columns=[\"BlackEloBins\"]).to_csv(\"/Volumes/Extreme SSD/chessdata/selected_games.csv\")"
   ]
  },
  {
   "cell_type": "markdown",
   "id": "46f40b72-a5f2-4398-813c-361445a7b7ac",
   "metadata": {},
   "source": [
    "# Read all columns and write the 100,000 games to CSV"
   ]
  },
  {
   "cell_type": "code",
   "execution_count": 29,
   "id": "f6fdd8fa-a3fc-4acf-8223-ec7a3e860099",
   "metadata": {},
   "outputs": [
    {
     "data": {
      "text/html": [
       "<div>\n",
       "<style scoped>\n",
       "    .dataframe tbody tr th:only-of-type {\n",
       "        vertical-align: middle;\n",
       "    }\n",
       "\n",
       "    .dataframe tbody tr th {\n",
       "        vertical-align: top;\n",
       "    }\n",
       "\n",
       "    .dataframe thead th {\n",
       "        text-align: right;\n",
       "    }\n",
       "</style>\n",
       "<table border=\"1\" class=\"dataframe\">\n",
       "  <thead>\n",
       "    <tr style=\"text-align: right;\">\n",
       "      <th></th>\n",
       "      <th>Event</th>\n",
       "      <th>Site</th>\n",
       "      <th>WhiteElo</th>\n",
       "      <th>BlackElo</th>\n",
       "      <th>UTCDateTime</th>\n",
       "      <th>Termination</th>\n",
       "      <th>BlackEloBins</th>\n",
       "    </tr>\n",
       "  </thead>\n",
       "  <tbody>\n",
       "    <tr>\n",
       "      <th>702180</th>\n",
       "      <td>Rated Rapid game</td>\n",
       "      <td>https://lichess.org/73XRCMCV</td>\n",
       "      <td>1844</td>\n",
       "      <td>1867</td>\n",
       "      <td>2024-05-17 14:55:52</td>\n",
       "      <td>Normal</td>\n",
       "      <td>(1817.667, 1879.9]</td>\n",
       "    </tr>\n",
       "    <tr>\n",
       "      <th>1173638</th>\n",
       "      <td>Rated Blitz game</td>\n",
       "      <td>https://lichess.org/Bn0OO1GR</td>\n",
       "      <td>728</td>\n",
       "      <td>594</td>\n",
       "      <td>2024-05-22 20:56:11</td>\n",
       "      <td>Time forfeit</td>\n",
       "      <td>(570.195, 632.167]</td>\n",
       "    </tr>\n",
       "    <tr>\n",
       "      <th>600911</th>\n",
       "      <td>Rated Rapid game</td>\n",
       "      <td>https://lichess.org/62Ne15NP</td>\n",
       "      <td>1348</td>\n",
       "      <td>1345</td>\n",
       "      <td>2024-07-24 22:25:57</td>\n",
       "      <td>Normal</td>\n",
       "      <td>(1319.8, 1382.033]</td>\n",
       "    </tr>\n",
       "    <tr>\n",
       "      <th>4303101</th>\n",
       "      <td>Rated Blitz game</td>\n",
       "      <td>https://lichess.org/hBFtrrCV</td>\n",
       "      <td>1675</td>\n",
       "      <td>1689</td>\n",
       "      <td>2024-10-01 21:05:41</td>\n",
       "      <td>Normal</td>\n",
       "      <td>(1655.0, 1715.167]</td>\n",
       "    </tr>\n",
       "    <tr>\n",
       "      <th>3579102</th>\n",
       "      <td>Rated Bullet game</td>\n",
       "      <td>https://lichess.org/ZvFKwlUn</td>\n",
       "      <td>2590</td>\n",
       "      <td>2720</td>\n",
       "      <td>2024-10-12 22:16:46</td>\n",
       "      <td>Normal</td>\n",
       "      <td>(2685.7, 2760.133]</td>\n",
       "    </tr>\n",
       "  </tbody>\n",
       "</table>\n",
       "</div>"
      ],
      "text/plain": [
       "                     Event                          Site  WhiteElo  BlackElo  \\\n",
       "702180    Rated Rapid game  https://lichess.org/73XRCMCV      1844      1867   \n",
       "1173638   Rated Blitz game  https://lichess.org/Bn0OO1GR       728       594   \n",
       "600911    Rated Rapid game  https://lichess.org/62Ne15NP      1348      1345   \n",
       "4303101   Rated Blitz game  https://lichess.org/hBFtrrCV      1675      1689   \n",
       "3579102  Rated Bullet game  https://lichess.org/ZvFKwlUn      2590      2720   \n",
       "\n",
       "                 UTCDateTime   Termination        BlackEloBins  \n",
       "702180   2024-05-17 14:55:52        Normal  (1817.667, 1879.9]  \n",
       "1173638  2024-05-22 20:56:11  Time forfeit  (570.195, 632.167]  \n",
       "600911   2024-07-24 22:25:57        Normal  (1319.8, 1382.033]  \n",
       "4303101  2024-10-01 21:05:41        Normal  (1655.0, 1715.167]  \n",
       "3579102  2024-10-12 22:16:46        Normal  (2685.7, 2760.133]  "
      ]
     },
     "execution_count": 29,
     "metadata": {},
     "output_type": "execute_result"
    }
   ],
   "source": [
    "reduced_df.head()"
   ]
  },
  {
   "cell_type": "code",
   "execution_count": 30,
   "id": "73f7d658-197f-4995-8d54-39736a4bda88",
   "metadata": {},
   "outputs": [],
   "source": [
    "# https://stackoverflow.com/questions/16568/how-to-select-the-nth-row-in-a-sql-database-table\n",
    "# query = \"SELECT * FROM games ORDER BY UTCDateTime, WhiteElo, BlackElo LIMIT 1,3122340\"\n",
    "# res = cur.execute(query)\n",
    "# print(\"Rated Bullet games\", res.fetchone())"
   ]
  },
  {
   "cell_type": "code",
   "execution_count": 43,
   "id": "b4c06582-90d0-43cd-bc98-0a6be6cd80fc",
   "metadata": {},
   "outputs": [],
   "source": [
    "sites_list = \"'\" + \"', '\".join(reduced_df['Site'].tolist()) + \"'\" # a string to put in the query"
   ]
  },
  {
   "cell_type": "code",
   "execution_count": 44,
   "id": "47a079ff-1f04-404d-b08a-30e388b6af1e",
   "metadata": {},
   "outputs": [],
   "source": [
    "query = f\"SELECT * FROM games WHERE Site in ({sites_list})\"\n",
    "full_resampled_df = pd.read_sql_query(query, con)\n",
    "# print(\"Rated Bullet games\", res.fetchone())"
   ]
  },
  {
   "cell_type": "code",
   "execution_count": 46,
   "id": "3a727ce9-d797-4cdd-bf76-efb12949dcce",
   "metadata": {},
   "outputs": [
    {
     "data": {
      "text/plain": [
       "Index                 128\n",
       "id                 800000\n",
       "Event              800000\n",
       "Site               800000\n",
       "Round              800000\n",
       "White              800000\n",
       "Black              800000\n",
       "Result             800000\n",
       "UTCDate            800000\n",
       "UTCTime            800000\n",
       "UTCDateTime        800000\n",
       "WhiteElo           800000\n",
       "BlackElo           800000\n",
       "WhiteRatingDiff    800000\n",
       "BlackRatingDiff    800000\n",
       "WhiteTitle         800000\n",
       "BlackTitle         800000\n",
       "ECO                800000\n",
       "Variant            800000\n",
       "Opening            800000\n",
       "TimeControl        800000\n",
       "Termination        800000\n",
       "Moves              800000\n",
       "dtype: int64"
      ]
     },
     "execution_count": 46,
     "metadata": {},
     "output_type": "execute_result"
    }
   ],
   "source": [
    "full_resampled_df.memory_usage()"
   ]
  },
  {
   "cell_type": "code",
   "execution_count": 48,
   "id": "3b40dbd7-d0fe-41f9-a436-4b18c1ab8641",
   "metadata": {},
   "outputs": [
    {
     "data": {
      "text/html": [
       "<div>\n",
       "<style scoped>\n",
       "    .dataframe tbody tr th:only-of-type {\n",
       "        vertical-align: middle;\n",
       "    }\n",
       "\n",
       "    .dataframe tbody tr th {\n",
       "        vertical-align: top;\n",
       "    }\n",
       "\n",
       "    .dataframe thead th {\n",
       "        text-align: right;\n",
       "    }\n",
       "</style>\n",
       "<table border=\"1\" class=\"dataframe\">\n",
       "  <thead>\n",
       "    <tr style=\"text-align: right;\">\n",
       "      <th></th>\n",
       "      <th>id</th>\n",
       "      <th>Event</th>\n",
       "      <th>Site</th>\n",
       "      <th>Round</th>\n",
       "      <th>White</th>\n",
       "      <th>Black</th>\n",
       "      <th>Result</th>\n",
       "      <th>UTCDate</th>\n",
       "      <th>UTCTime</th>\n",
       "      <th>UTCDateTime</th>\n",
       "      <th>...</th>\n",
       "      <th>WhiteRatingDiff</th>\n",
       "      <th>BlackRatingDiff</th>\n",
       "      <th>WhiteTitle</th>\n",
       "      <th>BlackTitle</th>\n",
       "      <th>ECO</th>\n",
       "      <th>Variant</th>\n",
       "      <th>Opening</th>\n",
       "      <th>TimeControl</th>\n",
       "      <th>Termination</th>\n",
       "      <th>Moves</th>\n",
       "    </tr>\n",
       "  </thead>\n",
       "  <tbody>\n",
       "    <tr>\n",
       "      <th>0</th>\n",
       "      <td>17</td>\n",
       "      <td>Rated Bullet game</td>\n",
       "      <td>https://lichess.org/KpaANKm3</td>\n",
       "      <td>-</td>\n",
       "      <td>scarface05</td>\n",
       "      <td>B0103232338</td>\n",
       "      <td>1-0</td>\n",
       "      <td>2024.01.01</td>\n",
       "      <td>00:00:58</td>\n",
       "      <td>2024-01-01 00:00:58</td>\n",
       "      <td>...</td>\n",
       "      <td>+6</td>\n",
       "      <td>-5</td>\n",
       "      <td></td>\n",
       "      <td></td>\n",
       "      <td>A40</td>\n",
       "      <td></td>\n",
       "      <td>Queen's Pawn Game: Modern Defense</td>\n",
       "      <td>60+0</td>\n",
       "      <td>Normal</td>\n",
       "      <td>1. d4 { [%clk 0:01:00] } 1... g6 { [%clk 0:01:...</td>\n",
       "    </tr>\n",
       "    <tr>\n",
       "      <th>1</th>\n",
       "      <td>129</td>\n",
       "      <td>Rated Blitz game</td>\n",
       "      <td>https://lichess.org/ohPSu5HV</td>\n",
       "      <td>-</td>\n",
       "      <td>omarcolchon</td>\n",
       "      <td>yohoy</td>\n",
       "      <td>0-1</td>\n",
       "      <td>2024.01.01</td>\n",
       "      <td>00:14:53</td>\n",
       "      <td>2024-01-01 00:14:53</td>\n",
       "      <td>...</td>\n",
       "      <td>-5</td>\n",
       "      <td>+6</td>\n",
       "      <td></td>\n",
       "      <td></td>\n",
       "      <td>B20</td>\n",
       "      <td></td>\n",
       "      <td>Sicilian Defense: Lasker-Dunne Attack</td>\n",
       "      <td>300+0</td>\n",
       "      <td>Normal</td>\n",
       "      <td>1. e4 { [%clk 0:05:00] } 1... c5 { [%clk 0:05:...</td>\n",
       "    </tr>\n",
       "    <tr>\n",
       "      <th>2</th>\n",
       "      <td>145</td>\n",
       "      <td>Rated Bullet game</td>\n",
       "      <td>https://lichess.org/hsZVDCXg</td>\n",
       "      <td>-</td>\n",
       "      <td>pw2007</td>\n",
       "      <td>cas579</td>\n",
       "      <td>0-1</td>\n",
       "      <td>2024.01.01</td>\n",
       "      <td>00:15:32</td>\n",
       "      <td>2024-01-01 00:15:32</td>\n",
       "      <td>...</td>\n",
       "      <td>-8</td>\n",
       "      <td>+6</td>\n",
       "      <td></td>\n",
       "      <td></td>\n",
       "      <td>C41</td>\n",
       "      <td></td>\n",
       "      <td>Philidor Defense</td>\n",
       "      <td>60+0</td>\n",
       "      <td>Time forfeit</td>\n",
       "      <td>1. e4 { [%clk 0:01:00] } 1... d6 { [%clk 0:01:...</td>\n",
       "    </tr>\n",
       "    <tr>\n",
       "      <th>3</th>\n",
       "      <td>214</td>\n",
       "      <td>Rated Blitz game</td>\n",
       "      <td>https://lichess.org/nD5P3ERl</td>\n",
       "      <td>-</td>\n",
       "      <td>eshaughn88</td>\n",
       "      <td>jaxjacobs</td>\n",
       "      <td>0-1</td>\n",
       "      <td>2024.01.01</td>\n",
       "      <td>00:24:27</td>\n",
       "      <td>2024-01-01 00:24:27</td>\n",
       "      <td>...</td>\n",
       "      <td>-6</td>\n",
       "      <td>+6</td>\n",
       "      <td></td>\n",
       "      <td></td>\n",
       "      <td>C00</td>\n",
       "      <td></td>\n",
       "      <td>French Defense: Knight Variation</td>\n",
       "      <td>300+0</td>\n",
       "      <td>Normal</td>\n",
       "      <td>1. e4 { [%eval 0.2] [%clk 0:05:00] } 1... e6 {...</td>\n",
       "    </tr>\n",
       "    <tr>\n",
       "      <th>4</th>\n",
       "      <td>220</td>\n",
       "      <td>Rated Rapid game</td>\n",
       "      <td>https://lichess.org/dMx2wqMt</td>\n",
       "      <td>-</td>\n",
       "      <td>Lebeux</td>\n",
       "      <td>Valentin140293</td>\n",
       "      <td>0-1</td>\n",
       "      <td>2024.01.01</td>\n",
       "      <td>00:24:58</td>\n",
       "      <td>2024-01-01 00:24:58</td>\n",
       "      <td>...</td>\n",
       "      <td>-5</td>\n",
       "      <td>+5</td>\n",
       "      <td></td>\n",
       "      <td></td>\n",
       "      <td>D00</td>\n",
       "      <td></td>\n",
       "      <td>Queen's Pawn Game: Accelerated London System</td>\n",
       "      <td>600+0</td>\n",
       "      <td>Time forfeit</td>\n",
       "      <td>1. d4 { [%clk 0:10:00] } 1... d5 { [%clk 0:10:...</td>\n",
       "    </tr>\n",
       "  </tbody>\n",
       "</table>\n",
       "<p>5 rows × 22 columns</p>\n",
       "</div>"
      ],
      "text/plain": [
       "    id              Event                          Site Round        White  \\\n",
       "0   17  Rated Bullet game  https://lichess.org/KpaANKm3     -   scarface05   \n",
       "1  129   Rated Blitz game  https://lichess.org/ohPSu5HV     -  omarcolchon   \n",
       "2  145  Rated Bullet game  https://lichess.org/hsZVDCXg     -       pw2007   \n",
       "3  214   Rated Blitz game  https://lichess.org/nD5P3ERl     -   eshaughn88   \n",
       "4  220   Rated Rapid game  https://lichess.org/dMx2wqMt     -       Lebeux   \n",
       "\n",
       "            Black Result     UTCDate   UTCTime          UTCDateTime  ...  \\\n",
       "0     B0103232338    1-0  2024.01.01  00:00:58  2024-01-01 00:00:58  ...   \n",
       "1           yohoy    0-1  2024.01.01  00:14:53  2024-01-01 00:14:53  ...   \n",
       "2          cas579    0-1  2024.01.01  00:15:32  2024-01-01 00:15:32  ...   \n",
       "3       jaxjacobs    0-1  2024.01.01  00:24:27  2024-01-01 00:24:27  ...   \n",
       "4  Valentin140293    0-1  2024.01.01  00:24:58  2024-01-01 00:24:58  ...   \n",
       "\n",
       "   WhiteRatingDiff  BlackRatingDiff WhiteTitle BlackTitle  ECO Variant  \\\n",
       "0               +6               -5                        A40           \n",
       "1               -5               +6                        B20           \n",
       "2               -8               +6                        C41           \n",
       "3               -6               +6                        C00           \n",
       "4               -5               +5                        D00           \n",
       "\n",
       "                                        Opening TimeControl   Termination  \\\n",
       "0             Queen's Pawn Game: Modern Defense        60+0        Normal   \n",
       "1         Sicilian Defense: Lasker-Dunne Attack       300+0        Normal   \n",
       "2                              Philidor Defense        60+0  Time forfeit   \n",
       "3              French Defense: Knight Variation       300+0        Normal   \n",
       "4  Queen's Pawn Game: Accelerated London System       600+0  Time forfeit   \n",
       "\n",
       "                                               Moves  \n",
       "0  1. d4 { [%clk 0:01:00] } 1... g6 { [%clk 0:01:...  \n",
       "1  1. e4 { [%clk 0:05:00] } 1... c5 { [%clk 0:05:...  \n",
       "2  1. e4 { [%clk 0:01:00] } 1... d6 { [%clk 0:01:...  \n",
       "3  1. e4 { [%eval 0.2] [%clk 0:05:00] } 1... e6 {...  \n",
       "4  1. d4 { [%clk 0:10:00] } 1... d5 { [%clk 0:10:...  \n",
       "\n",
       "[5 rows x 22 columns]"
      ]
     },
     "execution_count": 48,
     "metadata": {},
     "output_type": "execute_result"
    }
   ],
   "source": [
    "full_resampled_df.head()"
   ]
  },
  {
   "cell_type": "code",
   "execution_count": 50,
   "id": "7071f4bb-c899-455a-af4b-1dbee3180c9e",
   "metadata": {},
   "outputs": [],
   "source": [
    "# full_resampled_df.to_csv(\"/Volumes/Extreme SSD/chessdata/resampled_100000_games.csv\")"
   ]
  },
  {
   "cell_type": "code",
   "execution_count": null,
   "id": "1ed308d7-c913-4e2a-9d43-519898f619ab",
   "metadata": {},
   "outputs": [],
   "source": []
  }
 ],
 "metadata": {
  "kernelspec": {
   "display_name": "Python 3 (ipykernel)",
   "language": "python",
   "name": "python3"
  },
  "language_info": {
   "codemirror_mode": {
    "name": "ipython",
    "version": 3
   },
   "file_extension": ".py",
   "mimetype": "text/x-python",
   "name": "python",
   "nbconvert_exporter": "python",
   "pygments_lexer": "ipython3",
   "version": "3.10.16"
  }
 },
 "nbformat": 4,
 "nbformat_minor": 5
}
