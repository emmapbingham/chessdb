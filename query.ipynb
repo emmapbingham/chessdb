{
 "cells": [
  {
   "cell_type": "code",
   "execution_count": 108,
   "id": "4e544b51-40a9-46ce-9efb-bb232bcc34c5",
   "metadata": {},
   "outputs": [],
   "source": [
    "import pandas as pd\n",
    "import numpy as np\n",
    "import sqlite3"
   ]
  },
  {
   "cell_type": "code",
   "execution_count": 109,
   "id": "3152dc61-52b4-4175-801a-25896a949603",
   "metadata": {},
   "outputs": [],
   "source": [
    "con = sqlite3.connect('data.db')\n",
    "cur = con.cursor()"
   ]
  },
  {
   "cell_type": "markdown",
   "id": "aa3a8717-1ef4-4235-80b9-ffc1bdbb512b",
   "metadata": {},
   "source": [
    "# Schema"
   ]
  },
  {
   "cell_type": "code",
   "execution_count": 110,
   "id": "20b6248e-be7e-497b-ab99-1ef3cf45cc14",
   "metadata": {},
   "outputs": [
    {
     "data": {
      "text/plain": [
       "[('games',), ('sqlite_sequence',)]"
      ]
     },
     "execution_count": 110,
     "metadata": {},
     "output_type": "execute_result"
    }
   ],
   "source": [
    "# see all the tables\n",
    "res = cur.execute(\"SELECT name FROM sqlite_schema WHERE type='table';\")\n",
    "res.fetchall()"
   ]
  },
  {
   "cell_type": "code",
   "execution_count": 111,
   "id": "851722bf-e2f2-4b8f-9d05-cdf069021fbd",
   "metadata": {},
   "outputs": [
    {
     "data": {
      "text/plain": [
       "['id',\n",
       " 'Event',\n",
       " 'Site',\n",
       " 'Round',\n",
       " 'White',\n",
       " 'Black',\n",
       " 'Result',\n",
       " 'UTCDate',\n",
       " 'UTCTime',\n",
       " 'UTCDateTime',\n",
       " 'WhiteElo',\n",
       " 'BlackElo',\n",
       " 'WhiteRatingDiff',\n",
       " 'BlackRatingDiff',\n",
       " 'WhiteTitle',\n",
       " 'BlackTitle',\n",
       " 'ECO',\n",
       " 'Variant',\n",
       " 'Opening',\n",
       " 'TimeControl',\n",
       " 'Termination',\n",
       " 'Moves']"
      ]
     },
     "execution_count": 111,
     "metadata": {},
     "output_type": "execute_result"
    }
   ],
   "source": [
    "# see all the column names in the games table\n",
    "res = cur.execute('SELECT * FROM games')\n",
    "list(map(lambda x: x[0], res.description))"
   ]
  },
  {
   "cell_type": "markdown",
   "id": "637f1050-3722-43e6-88ad-b08715a52f9e",
   "metadata": {},
   "source": [
    "# Query examples"
   ]
  },
  {
   "cell_type": "markdown",
   "id": "b4b83881-a77c-4a83-a8ed-291301c22197",
   "metadata": {},
   "source": [
    "Select for ELO"
   ]
  },
  {
   "cell_type": "code",
   "execution_count": 155,
   "id": "9b95de48-a7a5-4aae-9595-9bb8c8a07a83",
   "metadata": {},
   "outputs": [
    {
     "name": "stdout",
     "output_type": "stream",
     "text": [
      "(78, 'Rated Blitz game', 'https://lichess.org/5ug0gm2j', '', 'joecasatro', '?', '0-1', '2012.12.31', '23:41:40', '2012-12-31 23:41:40', 1081, '?', '', '', '', '', 'B54', '', 'Sicilian Defense', '300+3', 'Normal', '1. e4 c5 2. Nf3 d6 3. d4 Na6 4. Bxa6 bxa6 5. dxc5 Bb7 6. cxd6 exd6 7. Nc3 Nf6 8. e5 Ng4 9. exd6 Bxd6 10. h3 Qe7+ 11. Be3 Nxe3 12. fxe3 Qxe3+ 13. Ne2 Bg3+ 14. Kf1 Qf2# 0-1')\n"
     ]
    }
   ],
   "source": [
    "query = \"SELECT * FROM games WHERE BlackElo > 1980;\"\n",
    "res = cur.execute(query)\n",
    "print(res.fetchone())"
   ]
  },
  {
   "cell_type": "markdown",
   "id": "15e30703-f1c3-431d-b68d-057b87faba20",
   "metadata": {},
   "source": [
    "Select for result, and use COUNT to count number of entries instead of fetching the data itself"
   ]
  },
  {
   "cell_type": "code",
   "execution_count": 113,
   "id": "c58230ff-ad44-4b62-8f31-91334341829b",
   "metadata": {},
   "outputs": [
    {
     "name": "stdout",
     "output_type": "stream",
     "text": [
      "(62129,)\n"
     ]
    }
   ],
   "source": [
    "query = \"SELECT COUNT(*) FROM games WHERE Result = '1-0';\"\n",
    "res = cur.execute(query)\n",
    "print(res.fetchone())"
   ]
  },
  {
   "cell_type": "markdown",
   "id": "eb38566b-07c1-4216-9b87-9c157cf24c61",
   "metadata": {},
   "source": [
    "Select for date range (more options: https://stackoverflow.com/questions/2309227/sqlite-select-with-condition-on-date)"
   ]
  },
  {
   "cell_type": "code",
   "execution_count": 130,
   "id": "3a303095-d1a2-42fb-827d-da6eba2acfac",
   "metadata": {},
   "outputs": [
    {
     "name": "stdout",
     "output_type": "stream",
     "text": [
      "(1, 'Rated Classical game', 'https://lichess.org/j1dkb5dw', '', 'BFG9k', 'mamalak', '1-0', '2012.12.31', '23:01:03', '2012-12-31 23:01:03', 1639, 1403, '+5', '-8', '', '', 'C00', '', 'French Defense: Normal Variation', '600+8', 'Normal', '1. e4 e6 2. d4 b6 3. a3 Bb7 4. Nc3 Nh6 5. Bxh6 gxh6 6. Be2 Qg5 7. Bg4 h5 8. Nf3 Qg6 9. Nh4 Qg5 10. Bxh5 Qxh4 11. Qf3 Kd8 12. Qxf7 Nc6 13. Qe8# 1-0')\n"
     ]
    }
   ],
   "source": [
    "query = \"SELECT * FROM games WHERE UTCDateTime BETWEEN date('2012-12-31') AND date('2013-01-05');\"\n",
    "res = cur.execute(query)\n",
    "print(res.fetchone())"
   ]
  },
  {
   "cell_type": "markdown",
   "id": "7e64c166-b81b-45a3-a060-cca013b12501",
   "metadata": {},
   "source": [
    "Query with multiple things, e.g. combining usernames and ELO in various ways"
   ]
  },
  {
   "cell_type": "code",
   "execution_count": 141,
   "id": "10411a52-46a9-417e-85c7-a97c7358b585",
   "metadata": {},
   "outputs": [
    {
     "name": "stdout",
     "output_type": "stream",
     "text": [
      "(58,)\n"
     ]
    }
   ],
   "source": [
    "query = \"SELECT COUNT(*) FROM games WHERE White = 'BFG9k' AND BlackElo > 1600;\"\n",
    "res = cur.execute(query)\n",
    "print(res.fetchone())"
   ]
  },
  {
   "cell_type": "code",
   "execution_count": 152,
   "id": "3238b616-5582-4314-b777-93d132c2993f",
   "metadata": {},
   "outputs": [
    {
     "name": "stdout",
     "output_type": "stream",
     "text": [
      "(10,)\n"
     ]
    }
   ],
   "source": [
    "query = \"SELECT COUNT(*) FROM games WHERE (White = 'adepa' AND BlackElo > 1600) OR (Black = 'adepa' AND WhiteElo > 1600);\"\n",
    "res = cur.execute(query)\n",
    "print(res.fetchone())"
   ]
  },
  {
   "cell_type": "markdown",
   "id": "324a55a4-d5f5-4e36-8b9e-bb733f8f833c",
   "metadata": {},
   "source": [
    "# Read data into dataframe for further analysis"
   ]
  },
  {
   "cell_type": "code",
   "execution_count": 156,
   "id": "6112c87f-1b1e-4830-a92c-8d543b1e6ad0",
   "metadata": {},
   "outputs": [],
   "source": [
    "query = \"SELECT * FROM games WHERE UTCDateTime BETWEEN date('2012-12-31') AND date('2013-01-05');\"\n",
    "# query = \"SELECT * FROM games WHERE (White = 'adepa' AND BlackElo > 1600) OR (Black = 'adepa' AND WhiteElo > 1600);\"\n",
    "df = pd.read_sql_query(query, con)"
   ]
  },
  {
   "cell_type": "code",
   "execution_count": 157,
   "id": "eb9be86c-4905-4704-b97c-166cde0e6e6c",
   "metadata": {},
   "outputs": [
    {
     "data": {
      "text/html": [
       "<div>\n",
       "<style scoped>\n",
       "    .dataframe tbody tr th:only-of-type {\n",
       "        vertical-align: middle;\n",
       "    }\n",
       "\n",
       "    .dataframe tbody tr th {\n",
       "        vertical-align: top;\n",
       "    }\n",
       "\n",
       "    .dataframe thead th {\n",
       "        text-align: right;\n",
       "    }\n",
       "</style>\n",
       "<table border=\"1\" class=\"dataframe\">\n",
       "  <thead>\n",
       "    <tr style=\"text-align: right;\">\n",
       "      <th></th>\n",
       "      <th>White</th>\n",
       "      <th>Black</th>\n",
       "      <th>WhiteElo</th>\n",
       "      <th>BlackElo</th>\n",
       "    </tr>\n",
       "  </thead>\n",
       "  <tbody>\n",
       "    <tr>\n",
       "      <th>0</th>\n",
       "      <td>BFG9k</td>\n",
       "      <td>mamalak</td>\n",
       "      <td>1639</td>\n",
       "      <td>1403</td>\n",
       "    </tr>\n",
       "    <tr>\n",
       "      <th>1</th>\n",
       "      <td>Desmond_Wilson</td>\n",
       "      <td>savinka59</td>\n",
       "      <td>1654</td>\n",
       "      <td>1919</td>\n",
       "    </tr>\n",
       "    <tr>\n",
       "      <th>2</th>\n",
       "      <td>Kozakmamay007</td>\n",
       "      <td>VanillaShamanilla</td>\n",
       "      <td>1643</td>\n",
       "      <td>1747</td>\n",
       "    </tr>\n",
       "    <tr>\n",
       "      <th>3</th>\n",
       "      <td>Naitero_Nagasaki</td>\n",
       "      <td>800</td>\n",
       "      <td>1824</td>\n",
       "      <td>1973</td>\n",
       "    </tr>\n",
       "    <tr>\n",
       "      <th>4</th>\n",
       "      <td>nichiren1967</td>\n",
       "      <td>Naitero_Nagasaki</td>\n",
       "      <td>1765</td>\n",
       "      <td>1815</td>\n",
       "    </tr>\n",
       "    <tr>\n",
       "      <th>...</th>\n",
       "      <td>...</td>\n",
       "      <td>...</td>\n",
       "      <td>...</td>\n",
       "      <td>...</td>\n",
       "    </tr>\n",
       "    <tr>\n",
       "      <th>15476</th>\n",
       "      <td>rennigeb</td>\n",
       "      <td>FrereKeiser</td>\n",
       "      <td>1441</td>\n",
       "      <td>1588</td>\n",
       "    </tr>\n",
       "    <tr>\n",
       "      <th>15477</th>\n",
       "      <td>promiscuo</td>\n",
       "      <td>mrschifer</td>\n",
       "      <td>1612</td>\n",
       "      <td>1438</td>\n",
       "    </tr>\n",
       "    <tr>\n",
       "      <th>15478</th>\n",
       "      <td>bjagus</td>\n",
       "      <td>F1_ALONSO_FERRARI</td>\n",
       "      <td>1611</td>\n",
       "      <td>1845</td>\n",
       "    </tr>\n",
       "    <tr>\n",
       "      <th>15479</th>\n",
       "      <td>Richard_XII</td>\n",
       "      <td>kaldere</td>\n",
       "      <td>1399</td>\n",
       "      <td>1413</td>\n",
       "    </tr>\n",
       "    <tr>\n",
       "      <th>15480</th>\n",
       "      <td>Carroll</td>\n",
       "      <td>-jack69-</td>\n",
       "      <td>1698</td>\n",
       "      <td>1929</td>\n",
       "    </tr>\n",
       "  </tbody>\n",
       "</table>\n",
       "<p>15481 rows × 4 columns</p>\n",
       "</div>"
      ],
      "text/plain": [
       "                  White              Black WhiteElo BlackElo\n",
       "0                 BFG9k            mamalak     1639     1403\n",
       "1        Desmond_Wilson          savinka59     1654     1919\n",
       "2         Kozakmamay007  VanillaShamanilla     1643     1747\n",
       "3      Naitero_Nagasaki                800     1824     1973\n",
       "4          nichiren1967   Naitero_Nagasaki     1765     1815\n",
       "...                 ...                ...      ...      ...\n",
       "15476          rennigeb        FrereKeiser     1441     1588\n",
       "15477         promiscuo          mrschifer     1612     1438\n",
       "15478            bjagus  F1_ALONSO_FERRARI     1611     1845\n",
       "15479       Richard_XII            kaldere     1399     1413\n",
       "15480           Carroll           -jack69-     1698     1929\n",
       "\n",
       "[15481 rows x 4 columns]"
      ]
     },
     "execution_count": 157,
     "metadata": {},
     "output_type": "execute_result"
    }
   ],
   "source": [
    "df[[\"White\", \"Black\", \"WhiteElo\", \"BlackElo\"]]"
   ]
  },
  {
   "cell_type": "code",
   "execution_count": 158,
   "id": "2053974f-0869-4aae-b5a1-09cac8fc075a",
   "metadata": {},
   "outputs": [
    {
     "data": {
      "text/plain": [
       "15481"
      ]
     },
     "execution_count": 158,
     "metadata": {},
     "output_type": "execute_result"
    }
   ],
   "source": [
    "# how many rows did we get?\n",
    "df.shape[0]"
   ]
  },
  {
   "cell_type": "markdown",
   "id": "c04d5fae-f4bc-4ecd-850c-086943fd7a9d",
   "metadata": {},
   "source": [
    "## Cleaning and type conversion"
   ]
  },
  {
   "cell_type": "code",
   "execution_count": 159,
   "id": "7d392e22-a8f5-4e1b-b560-a87753f67de8",
   "metadata": {},
   "outputs": [
    {
     "name": "stderr",
     "output_type": "stream",
     "text": [
      "/var/folders/ns/cpwqr00s7y55npv2jxl63gm80000gn/T/ipykernel_31449/575962429.py:3: FutureWarning: Downcasting behavior in `replace` is deprecated and will be removed in a future version. To retain the old behavior, explicitly call `result.infer_objects(copy=False)`. To opt-in to the future behavior, set `pd.set_option('future.no_silent_downcasting', True)`\n",
      "  df = df.replace(to_replace=\"?\", value=np.nan)\n"
     ]
    }
   ],
   "source": [
    "# Replace ? with NaN\n",
    "# (There were some ? in the BlackElo column and maybe others)\n",
    "df = df.replace(to_replace=\"?\", value=np.nan)"
   ]
  },
  {
   "cell_type": "code",
   "execution_count": 160,
   "id": "a15aba98-8e4c-499a-8d37-c70d98917e7e",
   "metadata": {},
   "outputs": [
    {
     "data": {
      "text/plain": [
       "id                   int64\n",
       "Event               object\n",
       "Site                object\n",
       "Round               object\n",
       "White               object\n",
       "Black               object\n",
       "Result              object\n",
       "UTCDate             object\n",
       "UTCTime             object\n",
       "UTCDateTime         object\n",
       "WhiteElo           float64\n",
       "BlackElo           float64\n",
       "WhiteRatingDiff     object\n",
       "BlackRatingDiff     object\n",
       "WhiteTitle          object\n",
       "BlackTitle          object\n",
       "ECO                 object\n",
       "Variant             object\n",
       "Opening             object\n",
       "TimeControl         object\n",
       "Termination         object\n",
       "Moves               object\n",
       "dtype: object"
      ]
     },
     "execution_count": 160,
     "metadata": {},
     "output_type": "execute_result"
    }
   ],
   "source": [
    "# See the dtypes. Might want to convert some of these to more useful things.\n",
    "df.dtypes"
   ]
  },
  {
   "cell_type": "code",
   "execution_count": 161,
   "id": "d5e8ca4a-1af7-435d-a913-24066d3b7041",
   "metadata": {},
   "outputs": [],
   "source": [
    "# Convert Elo to float (can't do int since there are some NaNs, but float will work fine)\n",
    "df[\"WhiteElo\"] = df[\"WhiteElo\"].astype(np.float64)\n",
    "df[\"BlackElo\"] = df[\"BlackElo\"].astype(np.float64)"
   ]
  },
  {
   "cell_type": "code",
   "execution_count": 162,
   "id": "3eb7e378-19ca-42ac-b88e-0c86995f1cef",
   "metadata": {},
   "outputs": [],
   "source": [
    "# Convert DateTime column to datetime type\n",
    "df[\"UTCDateTime\"] = pd.to_datetime(df[\"UTCDateTime\"])"
   ]
  },
  {
   "cell_type": "markdown",
   "id": "034e9c62-4402-4b74-afd1-2c344e72f2a1",
   "metadata": {},
   "source": [
    "## Descriptive statistics etc."
   ]
  },
  {
   "cell_type": "code",
   "execution_count": 163,
   "id": "e70a713f-4de6-4dd4-a572-0a47821e405d",
   "metadata": {},
   "outputs": [
    {
     "data": {
      "text/html": [
       "<div>\n",
       "<style scoped>\n",
       "    .dataframe tbody tr th:only-of-type {\n",
       "        vertical-align: middle;\n",
       "    }\n",
       "\n",
       "    .dataframe tbody tr th {\n",
       "        vertical-align: top;\n",
       "    }\n",
       "\n",
       "    .dataframe thead th {\n",
       "        text-align: right;\n",
       "    }\n",
       "</style>\n",
       "<table border=\"1\" class=\"dataframe\">\n",
       "  <thead>\n",
       "    <tr style=\"text-align: right;\">\n",
       "      <th></th>\n",
       "      <th>id</th>\n",
       "      <th>UTCDateTime</th>\n",
       "      <th>WhiteElo</th>\n",
       "      <th>BlackElo</th>\n",
       "    </tr>\n",
       "  </thead>\n",
       "  <tbody>\n",
       "    <tr>\n",
       "      <th>count</th>\n",
       "      <td>15481.000000</td>\n",
       "      <td>15481</td>\n",
       "      <td>15470.000000</td>\n",
       "      <td>15461.000000</td>\n",
       "    </tr>\n",
       "    <tr>\n",
       "      <th>mean</th>\n",
       "      <td>7741.000646</td>\n",
       "      <td>2013-01-03 03:46:56.934565120</td>\n",
       "      <td>1605.200129</td>\n",
       "      <td>1597.287950</td>\n",
       "    </tr>\n",
       "    <tr>\n",
       "      <th>min</th>\n",
       "      <td>1.000000</td>\n",
       "      <td>2012-12-31 23:01:03</td>\n",
       "      <td>867.000000</td>\n",
       "      <td>800.000000</td>\n",
       "    </tr>\n",
       "    <tr>\n",
       "      <th>25%</th>\n",
       "      <td>3871.000000</td>\n",
       "      <td>2013-01-02 05:17:35</td>\n",
       "      <td>1476.000000</td>\n",
       "      <td>1462.000000</td>\n",
       "    </tr>\n",
       "    <tr>\n",
       "      <th>50%</th>\n",
       "      <td>7741.000000</td>\n",
       "      <td>2013-01-03 04:33:25</td>\n",
       "      <td>1601.000000</td>\n",
       "      <td>1582.000000</td>\n",
       "    </tr>\n",
       "    <tr>\n",
       "      <th>75%</th>\n",
       "      <td>11611.000000</td>\n",
       "      <td>2013-01-04 02:36:00</td>\n",
       "      <td>1735.000000</td>\n",
       "      <td>1738.000000</td>\n",
       "    </tr>\n",
       "    <tr>\n",
       "      <th>max</th>\n",
       "      <td>15491.000000</td>\n",
       "      <td>2013-01-04 23:59:21</td>\n",
       "      <td>2372.000000</td>\n",
       "      <td>2372.000000</td>\n",
       "    </tr>\n",
       "    <tr>\n",
       "      <th>std</th>\n",
       "      <td>4469.125213</td>\n",
       "      <td>NaN</td>\n",
       "      <td>204.300097</td>\n",
       "      <td>211.156474</td>\n",
       "    </tr>\n",
       "  </tbody>\n",
       "</table>\n",
       "</div>"
      ],
      "text/plain": [
       "                 id                    UTCDateTime      WhiteElo      BlackElo\n",
       "count  15481.000000                          15481  15470.000000  15461.000000\n",
       "mean    7741.000646  2013-01-03 03:46:56.934565120   1605.200129   1597.287950\n",
       "min        1.000000            2012-12-31 23:01:03    867.000000    800.000000\n",
       "25%     3871.000000            2013-01-02 05:17:35   1476.000000   1462.000000\n",
       "50%     7741.000000            2013-01-03 04:33:25   1601.000000   1582.000000\n",
       "75%    11611.000000            2013-01-04 02:36:00   1735.000000   1738.000000\n",
       "max    15491.000000            2013-01-04 23:59:21   2372.000000   2372.000000\n",
       "std     4469.125213                            NaN    204.300097    211.156474"
      ]
     },
     "execution_count": 163,
     "metadata": {},
     "output_type": "execute_result"
    }
   ],
   "source": [
    "df.describe()"
   ]
  },
  {
   "cell_type": "code",
   "execution_count": 164,
   "id": "94852853-aa43-4403-bdfa-c5a57b0d8897",
   "metadata": {},
   "outputs": [
    {
     "data": {
      "text/plain": [
       "Result\n",
       "1-0        7920\n",
       "0-1        7069\n",
       "1/2-1/2     492\n",
       "Name: count, dtype: int64"
      ]
     },
     "execution_count": 164,
     "metadata": {},
     "output_type": "execute_result"
    }
   ],
   "source": [
    "df[\"Result\"].value_counts()"
   ]
  },
  {
   "cell_type": "code",
   "execution_count": null,
   "id": "4581430f-8b08-4bc4-aec7-660c28a3244b",
   "metadata": {},
   "outputs": [],
   "source": []
  }
 ],
 "metadata": {
  "kernelspec": {
   "display_name": "Python 3 (ipykernel)",
   "language": "python",
   "name": "python3"
  },
  "language_info": {
   "codemirror_mode": {
    "name": "ipython",
    "version": 3
   },
   "file_extension": ".py",
   "mimetype": "text/x-python",
   "name": "python",
   "nbconvert_exporter": "python",
   "pygments_lexer": "ipython3",
   "version": "3.10.16"
  }
 },
 "nbformat": 4,
 "nbformat_minor": 5
}
