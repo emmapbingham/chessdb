{
 "cells": [
  {
   "cell_type": "markdown",
   "id": "e19ef28c-8e7e-4603-b847-ff62d4f59f5d",
   "metadata": {},
   "source": [
    "# Instructions\n",
    "- Make conda environment and install libraries\n",
    "- Install Stockfish and input path to it\n",
    "- Input path to dataset\n",
    "- Run cells"
   ]
  },
  {
   "cell_type": "code",
   "execution_count": 1,
   "id": "271ecb38-bab0-4857-ba82-7b8d2d5f6db2",
   "metadata": {},
   "outputs": [],
   "source": [
    "# standard lib\n",
    "import io\n",
    "\n",
    "# data analysis\n",
    "import pandas as pd\n",
    "import numpy as np\n",
    "import matplotlib.pyplot as plt\n",
    "\n",
    "# utils\n",
    "from tqdm.notebook import tqdm\n",
    "\n",
    "# chess\n",
    "import chess\n",
    "import chess\n",
    "import chess.pgn\n",
    "import chess.engine\n",
    "\n",
    "# my custom libs\n",
    "from gameeval import landscapeeval, gameeval\n",
    "from mmaformatter import save_as_mma"
   ]
  },
  {
   "cell_type": "code",
   "execution_count": 2,
   "id": "ce1fdf02-dab3-47cf-93b5-dca8fa7abfc9",
   "metadata": {},
   "outputs": [],
   "source": [
    "df = pd.read_csv(\"../data/resampled_100000_games.csv\")"
   ]
  },
  {
   "cell_type": "code",
   "execution_count": 3,
   "id": "3fd40d7a-e8d9-4ebd-8e12-f6b93904051a",
   "metadata": {},
   "outputs": [
    {
     "data": {
      "text/plain": [
       "Event\n",
       "Rated Rapid game     33335\n",
       "Rated Blitz game     33334\n",
       "Rated Bullet game    33331\n",
       "Name: count, dtype: int64"
      ]
     },
     "execution_count": 3,
     "metadata": {},
     "output_type": "execute_result"
    }
   ],
   "source": [
    "df[\"Event\"].value_counts()"
   ]
  },
  {
   "cell_type": "code",
   "execution_count": 4,
   "id": "812e2289-47db-4710-87d3-6deb926f784d",
   "metadata": {},
   "outputs": [
    {
     "data": {
      "text/plain": [
       "Termination\n",
       "Normal          69544\n",
       "Time forfeit    30456\n",
       "Name: count, dtype: int64"
      ]
     },
     "execution_count": 4,
     "metadata": {},
     "output_type": "execute_result"
    }
   ],
   "source": [
    "df[\"Termination\"].value_counts()"
   ]
  },
  {
   "cell_type": "code",
   "execution_count": 5,
   "id": "e4e6c1e9-01e7-402c-9733-a01e9ffba903",
   "metadata": {},
   "outputs": [],
   "source": [
    "# Make evaluations of position using stockfish\n",
    "# Path to stockfish engine\n",
    "# engine = chess.engine.SimpleEngine.popen_uci(\"/usr/local/Cellar/stockfish/17/bin/stockfish\")\n",
    "engine_path = \"/usr/local/Cellar/stockfish/17/bin/stockfish\""
   ]
  },
  {
   "cell_type": "code",
   "execution_count": 6,
   "id": "55a2ffdc-679e-4073-99ab-060b0cc67bfd",
   "metadata": {},
   "outputs": [
    {
     "data": {
      "application/vnd.jupyter.widget-view+json": {
       "model_id": "6511da96304548e89c2a1d939efebcca",
       "version_major": 2,
       "version_minor": 0
      },
      "text/plain": [
       "  0%|          | 0/2 [00:00<?, ?it/s]"
      ]
     },
     "metadata": {},
     "output_type": "display_data"
    }
   ],
   "source": [
    "# analyze all 100,000 games (just mainline moves and k=2 tree)\n",
    "cp_evals = []\n",
    "wdl_evals = []\n",
    "landscapes = []\n",
    "k = 2\n",
    "d = 1\n",
    "depth = 15\n",
    "for moves in tqdm(df[\"Moves\"]):\n",
    "    pgn = io.StringIO(moves)\n",
    "    game = chess.pgn.read_game(pgn)\n",
    "    cps, wdls = await gameeval(game, engine_path, depth=depth)\n",
    "    landscape = await landscapeeval(game, engine_path, k=k, d=d, depth=depth)\n",
    "    cp_evals.append(cps)\n",
    "    wdl_evals.append(wdls)\n",
    "    landscapes.append(landscape)"
   ]
  },
  {
   "cell_type": "code",
   "execution_count": 9,
   "id": "6dec1b8f-1920-4525-a495-a0caa56af4ff",
   "metadata": {},
   "outputs": [
    {
     "data": {
      "text/plain": [
       "416.6666666666667"
      ]
     },
     "execution_count": 9,
     "metadata": {},
     "output_type": "execute_result"
    }
   ],
   "source": [
    "15*100000/3600"
   ]
  },
  {
   "cell_type": "code",
   "execution_count": null,
   "id": "49e2b926-5d41-4842-acd9-bdda7cea9276",
   "metadata": {},
   "outputs": [],
   "source": [
    "# save results as Mathematica files\n",
    "save_as_mma([c.tolist() for c in cp_evals], \"../Centipawns.mx\")\n",
    "save_as_mma([w.tolist() for w in wdl_evals], \"../WDLs.mx\")\n",
    "save_as_mma(landscapes, \"../Landscapes_k=2_d=1.mx\")"
   ]
  },
  {
   "cell_type": "code",
   "execution_count": null,
   "id": "e14c6b4d-796b-4d1c-baa9-7a7d51e8b150",
   "metadata": {},
   "outputs": [],
   "source": []
  }
 ],
 "metadata": {
  "kernelspec": {
   "display_name": "Python 3 (ipykernel)",
   "language": "python",
   "name": "python3"
  },
  "language_info": {
   "codemirror_mode": {
    "name": "ipython",
    "version": 3
   },
   "file_extension": ".py",
   "mimetype": "text/x-python",
   "name": "python",
   "nbconvert_exporter": "python",
   "pygments_lexer": "ipython3",
   "version": "3.10.16"
  }
 },
 "nbformat": 4,
 "nbformat_minor": 5
}
